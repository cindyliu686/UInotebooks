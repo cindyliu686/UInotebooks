{
 "cells": [
  {
   "cell_type": "markdown",
   "metadata": {},
   "source": [
    "##utility NB for darts gaussian distribution plot UI class 3\n",
    "##FBB August 2015"
   ]
  },
  {
   "cell_type": "code",
   "execution_count": 6,
   "metadata": {
    "collapsed": false
   },
   "outputs": [
    {
     "name": "stdout",
     "output_type": "stream",
     "text": [
      "Populating the interactive namespace from numpy and matplotlib\n"
     ]
    }
   ],
   "source": [
    "import os\n",
    "import pylab as pl\n",
    "import numpy as np\n",
    "\n",
    "%pylab inline"
   ]
  },
  {
   "cell_type": "code",
   "execution_count": 7,
   "metadata": {
    "collapsed": true
   },
   "outputs": [],
   "source": [
    "N=10000\n",
    "def circlepoint(r,c,theta):\n",
    "    return()\n",
    "def circle(r,c):\n",
    "    cx,cy=np.zeros(N),np.zeros(N)\n",
    "    for i,x in enumerate(np.linspace(c[0]-r,c[0]+r,N)):\n",
    "        cx[i]=x\n",
    "        cy[i]=np.sqrt(r**2-(x-c[0])**2)+c[1]\n",
    "    return cx,cy\n",
    "        \n",
    "def wedges(r,c,nw,v,mod):\n",
    "    cx,cy=np.zeros(N),np.zeros(N)\n",
    "    ii=0\n",
    "    for i,x in enumerate(np.linspace(c[0]-r,c[0]+r,N)):\n",
    "        y=np.sqrt(r**2-(x-c[0])**2)+c[1]\n",
    "        theta=np.arctan(y/x)\n",
    "        if int((theta*180/np.pi/360.+v)*nw)%2==mod:\n",
    "            #print \"hrtr\",theta, int(theta*180/np.pi/360.*nw)%2\n",
    "            cx[ii]=x\n",
    "            cy[ii]=y\n",
    "            ii+=1\n",
    "    return cx,cy  "
   ]
  },
  {
   "cell_type": "markdown",
   "metadata": {},
   "source": []
  },
  {
   "cell_type": "code",
   "execution_count": 9,
   "metadata": {
    "collapsed": false
   },
   "outputs": [
    {
     "name": "stdout",
     "output_type": "stream",
     "text": [
      "[-3.99953095  0.18536081  1.80607161 -1.00487207  1.46264157  0.52843768\n",
      " -0.05764066 -2.64008666 -0.87899166  0.01000289 -1.41605397  0.37032698\n",
      " -1.6671901   1.13369414  0.84544161 -0.70882229 -1.56256075  1.55946537\n",
      " -1.37627125 -2.73663649  2.73796332  2.58321035 -1.00375828 -2.18487148\n",
      " -0.13096262  1.3741644   0.96200069  2.22311225 -1.15247612 -0.38864797\n",
      " -0.05520078 -3.38643399 -2.01270461  1.13290802  1.00088952 -1.41189385\n",
      "  1.87924454 -3.88123365 -3.2127981  -2.96486903 -1.58887832 -1.83634347\n",
      " -0.48537087 -1.72587747  2.09949615 -3.96619125 -2.4666202   0.21501551\n",
      " -3.72715701  2.44142773 -2.87603519 -1.59949239 -2.38009232 -2.15586473\n",
      " -0.28227306  0.51561918 -2.22445469  1.99893949 -0.65922249 -2.27946296\n",
      " -2.26359678 -0.4627221  -0.02431076 -0.4729029  -3.7710588  -2.58841976\n",
      "  0.72607776  0.97241043  1.55384288 -3.36438122 -4.1823766   0.23218645\n",
      " -1.16355427 -1.87843596  3.56921512 -1.60142882  1.00090666 -3.11398468\n",
      "  0.66114667 -2.70904619  0.88024294  0.87378013 -3.63337506  1.30994824\n",
      "  1.0576448   0.35646574 -0.28225602 -0.44343273 -1.65765165 -2.8989024\n",
      " -3.91190401  0.23832791  3.25314685 -1.2538067   3.16387216 -0.49396513\n",
      " -0.65204693 -0.49208481 -0.87002822 -5.47430307]\n"
     ]
    }
   ],
   "source": [
    "np.random.seed(100)\n",
    "fig=pl.figure(figsize=(10,10))\n",
    "mycircle=circle(12,[0,0])\n",
    "pl.fill_between(mycircle[0],mycircle[1]*(-1),mycircle[1],where=mycircle[1]>mycircle[1]*(-1.0),color='black')\n",
    "mycircleout=circle(10,[0,0])\n",
    "pl.plot(mycircleout[0],-mycircleout[1],'.',color='green')\n",
    "pl.plot(mycircleout[0],mycircleout[1],'.',color='red')\n",
    "mycirclein=circle(5,[0,0])\n",
    "pl.plot(mycirclein[0],-mycirclein[1],'.',color='green')\n",
    "pl.plot(mycirclein[0],mycirclein[1],'.',color='red')\n",
    "mywedges=wedges(5,[0,0],20,360./27,0)\n",
    "pl.plot(mywedges[0],mywedges[1],'.',color='green')\n",
    "mywedges=wedges(5,[0,0],20,-360./27,1)\n",
    "pl.plot(mywedges[0],-mywedges[1],'.',color='red')\n",
    "\n",
    "mywedges=wedges(10,[0,0],20,360./27,0)\n",
    "pl.plot(mywedges[0],mywedges[1],'.',color='green')\n",
    "mywedges=wedges(10,[0,0],20,-360./27,1)\n",
    "pl.plot(mywedges[0],-mywedges[1],'.',color='red')\n",
    "mycircleinner=circle(0.3,[0,0])\n",
    "pl.plot(mycircleinner[0],-mycircleinner[1],'.',color='green')\n",
    "pl.plot(mycircleinner[0],mycircleinner[1],'.',color='green')\n",
    "\n",
    "rs=2*np.random.randn(100)-0.5\n",
    "print rs\n",
    "for i,f in enumerate(range(100)):\n",
    "    \n",
    "    theta=(np.random.rand()*np.pi)\n",
    "    pl.scatter(rs[i]*np.cos(theta),rs[i]*np.sin(theta),color='gray')\n",
    "    pl.savefig(os.getenv('PUI15PLOTS')+'/board_%02d.png'%f, transparent=True)  \n",
    "    "
   ]
  },
  {
   "cell_type": "code",
   "execution_count": 10,
   "metadata": {
    "collapsed": false
   },
   "outputs": [
    {
     "name": "stdout",
     "output_type": "stream",
     "text": [
      "(array([  1.,   7.,   8.,  13.,  16.,  17.,  13.,  14.,   7.,   4.]), array([-5.47430307, -4.56995125, -3.66559943, -2.76124761, -1.85689579,\n",
      "       -0.95254397, -0.04819215,  0.85615966,  1.76051148,  2.6648633 ,\n",
      "        3.56921512]), <a list of 10 Patch objects>)\n"
     ]
    }
   ],
   "source": [
    "#pl.xkcd()\n",
    "pl.rcdefaults()\n",
    "import pylabsetup\n",
    "fig=pl.figure(figsize=(10,10))\n",
    "ax=fig.add_subplot(111, axisbg='black')\n",
    "h=ax.hist(rs,bins=10, color='gold', label='distance to target', alpha=0.9)\n",
    "print h\n",
    "ax.plot(np.arange(-8,8,0.1),max(h[0])*np.exp(-(np.arange(-8,8,0.1)**2)/4.0),'k-', lw=3, color='IndianRed', label='N(0,2)')\n",
    "l=pl.legend(loc=2, fontsize=19,frameon=False)\n",
    "for text in l.get_texts():\n",
    "    text.set_color(\"gray\")\n",
    "ax.spines['bottom'].set_color('gray')\n",
    "#ax.spines['top'].set_color('red')\n",
    "ax.xaxis.label.set_color('gray')\n",
    "ax.tick_params(axis='y', colors='gray')\n",
    "ax.tick_params(axis='x', colors='gray')\n",
    "ax.spines['left'].set_color('gray')\n",
    "#ax.spines['top'].set_color('red')\n",
    "fig.patch.set_facecolor('black')\n",
    "\n",
    "ax.yaxis.label.set_color('gray')\n",
    "ax.set_xlabel('r', fontsize=25)\n",
    "ax.set_ylabel('number of darts within r-dr/2 and r+dr/2', fontsize=25, color='gray')\n",
    "pl.savefig(os.getenv('PUI15PLOTS')+'/gaussian_darts_distrib.png', color='black',facecolor=fig.get_facecolor(), edgecolor='none')\n"
   ]
  },
  {
   "cell_type": "code",
   "execution_count": null,
   "metadata": {
    "collapsed": true
   },
   "outputs": [],
   "source": []
  }
 ],
 "metadata": {
  "kernelspec": {
   "display_name": "Python 2",
   "language": "python",
   "name": "python2"
  },
  "language_info": {
   "codemirror_mode": {
    "name": "ipython",
    "version": 2
   },
   "file_extension": ".py",
   "mimetype": "text/x-python",
   "name": "python",
   "nbconvert_exporter": "python",
   "pygments_lexer": "ipython2",
   "version": "2.7.3"
  }
 },
 "nbformat": 4,
 "nbformat_minor": 0
}
