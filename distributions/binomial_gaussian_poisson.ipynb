{
 "cells": [
  {
   "cell_type": "code",
   "execution_count": 25,
   "metadata": {
    "collapsed": false
   },
   "outputs": [
    {
     "name": "stdout",
     "output_type": "stream",
     "text": [
      "Populating the interactive namespace from numpy and matplotlib\n"
     ]
    },
    {
     "name": "stderr",
     "output_type": "stream",
     "text": [
      "/Users/fbianco/Library/Enthought/Canopy_64bit/User/lib/python2.7/site-packages/matplotlib/__init__.py:855: UserWarning: svg.embed_char_paths is deprecated and replaced with svg.fonttype; please use the latter.\n",
      "  warnings.warn(self.msg_depr % (key, alt_key))\n"
     ]
    }
   ],
   "source": [
    "import pylab as pl\n",
    "import numpy as np\n",
    "from scipy import stats\n",
    "\n",
    "\n",
    "import json\n",
    "import os\n",
    "\n",
    "s = json.load( open(os.getenv('PUI2015')+\"/fbb_matplotlibrc.json\") )\n",
    "pl.rcParams.update(s)\n",
    "%pylab inline"
   ]
  },
  {
   "cell_type": "markdown",
   "metadata": {},
   "source": [
    "Binomial"
   ]
  },
  {
   "cell_type": "code",
   "execution_count": 26,
   "metadata": {
    "collapsed": false
   },
   "outputs": [],
   "source": [
    "def plot_and_print(dist):\n",
    "    pl.hist(dist,bins=100)\n",
    "    n, min_max, mean, var, skew, kurt = stats.describe(dist)\n",
    "    print(\"Number of elements: {0:d}\".format(n))\n",
    "    print(\"Minimum: {0:8.6f} Maximum: {1:8.6f}\".format(min_max[0], min_max[1]))\n",
    "    print(\"Mean: {0:8.6f}\".format(mean))\n",
    "    print(\"Variance: {0:8.6f}\".format(var))\n",
    "    print(\"Skew : {0:8.6f}\".format(skew))\n",
    "    print(\"Kurtosis: {0:8.6f}\".format(kurt))\n"
   ]
  },
  {
   "cell_type": "code",
   "execution_count": 27,
   "metadata": {
    "collapsed": false
   },
   "outputs": [],
   "source": [
    "def mybinomial(n, p):\n",
    "    bindist=np.random.binomial(n, p, 1000)\n",
    "    plot_and_print(bindist)\n",
    "\n",
    "def mypoisson(l):\n",
    "    pdist=np.random.poisson(l,  1000)\n",
    "    plot_and_print(pdist)\n",
    "    \n",
    "def mygaussian(mu,s):\n",
    "    pdist=(np.random.randn(1000)* s) + mu\n",
    "    plot_and_print(pdist)"
   ]
  },
  {
   "cell_type": "code",
   "execution_count": null,
   "metadata": {
    "collapsed": false
   },
   "outputs": [],
   "source": []
  },
  {
   "cell_type": "code",
   "execution_count": 31,
   "metadata": {
    "collapsed": false
   },
   "outputs": [
    {
     "name": "stdout",
     "output_type": "stream",
     "text": [
      "Number of elements: 1000\n",
      "Minimum: 0.000000 Maximum: 9.000000\n",
      "Mean: 3.035000\n",
      "Variance: 2.952728\n",
      "Skew : 0.468048\n",
      "Kurtosis: -0.209417\n"
     ]
    },
    {
     "data": {
      "image/png": "[encoded data removed]",
      "text/plain": [
       "<matplotlib.figure.Figure at 0x10e8baa50>"
      ]
     },
     "metadata": {},
     "output_type": "display_data"
    }
   ],
   "source": [
    "mybinomial(100,0.03)"
   ]
  },
  {
   "cell_type": "code",
   "execution_count": 33,
   "metadata": {
    "collapsed": false
   },
   "outputs": [
    {
     "name": "stdout",
     "output_type": "stream",
     "text": [
      "Number of elements: 1000\n",
      "Minimum: 0.000000 Maximum: 9.000000\n",
      "Mean: 2.961000\n",
      "Variance: 2.686165\n",
      "Skew : 0.525269\n",
      "Kurtosis: 0.267396\n"
     ]
    },
    {
     "data": {
      "image/png": "[encoded data removed]",
      "text/plain": [
       "<matplotlib.figure.Figure at 0x10d85cd10>"
      ]
     },
     "metadata": {},
     "output_type": "display_data"
    }
   ],
   "source": [
    "mypoisson(3)"
   ]
  },
  {
   "cell_type": "code",
   "execution_count": 34,
   "metadata": {
    "collapsed": false
   },
   "outputs": [
    {
     "name": "stdout",
     "output_type": "stream",
     "text": [
      "Number of elements: 1000\n",
      "Minimum: -89.650670 Maximum: 106.369596\n",
      "Mean: 0.214012\n",
      "Variance: 936.852111\n",
      "Skew : 0.102306\n",
      "Kurtosis: -0.055750\n"
     ]
    },
    {
     "data": {
      "image/png": "[encoded data removed]",
      "text/plain": [
       "<matplotlib.figure.Figure at 0x10d8bcf90>"
      ]
     },
     "metadata": {},
     "output_type": "display_data"
    }
   ],
   "source": [
    "mygaussian(0,30)"
   ]
  }
 ],
 "metadata": {
  "kernelspec": {
   "display_name": "Python 2",
   "language": "python",
   "name": "python2"
  },
  "language_info": {
   "codemirror_mode": {
    "name": "ipython",
    "version": 2
   },
   "file_extension": ".py",
   "mimetype": "text/x-python",
   "name": "python",
   "nbconvert_exporter": "python",
   "pygments_lexer": "ipython2",
   "version": "2.7.10"
  }
 },
 "nbformat": 4,
 "nbformat_minor": 0
}
