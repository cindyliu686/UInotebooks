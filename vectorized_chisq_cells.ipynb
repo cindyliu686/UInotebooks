{
 "cells": [
  {
   "cell_type": "markdown",
   "metadata": {},
   "source": [
    "#DEMO NOTEBOOK FOR PUI2015\n",
    "##__author__ FBB\n",
    "\n",
    "this is to dempnstrate the power of vectorization: lets create a table with the cells for the chisq test via a nested for loop (of only 2 elements!) and with vectorized operations"
   ]
  },
  {
   "cell_type": "code",
   "execution_count": 1,
   "metadata": {
    "collapsed": false
   },
   "outputs": [
    {
     "name": "stdout",
     "output_type": "stream",
     "text": [
      "Populating the interactive namespace from numpy and matplotlib\n"
     ]
    },
    {
     "name": "stderr",
     "output_type": "stream",
     "text": [
      "/Users/fbianco/Library/Enthought/Canopy_64bit/User/lib/python2.7/site-packages/matplotlib/__init__.py:855: UserWarning: svg.embed_char_paths is deprecated and replaced with svg.fonttype; please use the latter.\n",
      "  warnings.warn(self.msg_depr % (key, alt_key))\n"
     ]
    }
   ],
   "source": [
    "import pylab as pl\n",
    "import pandas as pd\n",
    "import numpy as np\n",
    "%pylab inline\n",
    "\n",
    "import os\n",
    "\n",
    "import json\n",
    "s = json.load( open(os.getenv ('PUI2015')+\"/fbb_matplotlibrc.json\") )\n",
    "pl.rcParams.update(s)\n"
   ]
  },
  {
   "cell_type": "markdown",
   "metadata": {},
   "source": [
    "collecting the data"
   ]
  },
  {
   "cell_type": "code",
   "execution_count": 31,
   "metadata": {
    "collapsed": false
   },
   "outputs": [
    {
     "name": "stdout",
     "output_type": "stream",
     "text": [
      "Index([u'tripduration', u'starttime', u'stoptime', u'start station id',\n",
      "       u'start station name', u'start station latitude',\n",
      "       u'start station longitude', u'end station id', u'end station name',\n",
      "       u'end station latitude', u'end station longitude', u'bikeid',\n",
      "       u'usertype', u'birth year', u'gender'],\n",
      "      dtype='object')\n"
     ]
    }
   ],
   "source": [
    "df=pd.read_csv(os.getenv ('PUI2015')+'/notebooks/data/201501-citibike-tripdata.csv')\n",
    "print df.columns\n",
    "\n",
    "#df is the dataframe where the content of the csv file is stored\n",
    "\n",
    "df['ageM'] = 2015-df['birth year'][(df['usertype']=='Subscriber') & (df['gender']==1)]\n",
    "df['ageF'] = 2015-df['birth year'][(df['usertype']=='Subscriber') & (df['gender']==2)]\n",
    "\n",
    "\n",
    "bins = np.arange(0, 99, 10)\n",
    "\n",
    "cs1=df.ageM.groupby(pd.cut(df.ageM, bins)).agg([count_nonzero]).cumsum()\n",
    "\n",
    "cs2=df.ageF.groupby(pd.cut(df.ageF, bins)).agg([count_nonzero]).cumsum()\n"
   ]
  },
  {
   "cell_type": "markdown",
   "metadata": {},
   "source": [
    "creating the bin counts the data"
   ]
  },
  {
   "cell_type": "code",
   "execution_count": 32,
   "metadata": {
    "collapsed": false
   },
   "outputs": [
    {
     "name": "stdout",
     "output_type": "stream",
     "text": [
      "[array([[        nan],\n",
      "       [ 0.0083646 ],\n",
      "       [ 0.23188476],\n",
      "       [ 0.54738035],\n",
      "       [ 0.79106956],\n",
      "       [ 0.94736102],\n",
      "       [ 0.99366505],\n",
      "       [ 0.99977156],\n",
      "       [ 1.        ]]), array([[        nan],\n",
      "       [ 0.01002054],\n",
      "       [ 0.29282245],\n",
      "       [ 0.59948554],\n",
      "       [ 0.80966733],\n",
      "       [ 0.95824775],\n",
      "       [ 0.99679419],\n",
      "       [ 0.99988482],\n",
      "       [ 1.        ]])]\n",
      "[[        nan  0.0083646   0.23188476  0.54738035  0.79106956  0.94736102\n",
      "   0.99366505  0.99977156  1.        ]\n",
      " [        nan  0.01002054  0.29282245  0.59948554  0.80966733  0.95824775\n",
      "   0.99679419  0.99988482  1.        ]]\n"
     ]
    }
   ],
   "source": [
    "values=[np.empty_like(bins), np.empty_like(bins)]\n",
    "values[0]=np.array(cs1/cs1.max())\n",
    "values[1]=np.array(cs2/cs2.max())\n",
    "#here i was testing\n",
    "#values=np.array([[1,2,3],[1,2,3]])\n",
    "print values\n",
    "values=np.array(values).squeeze(axis=2)\n",
    "print values\n",
    "values[np.isnan(values)]=0"
   ]
  },
  {
   "cell_type": "markdown",
   "metadata": {},
   "source": [
    "creating the cells with c-style loops"
   ]
  },
  {
   "cell_type": "code",
   "execution_count": 33,
   "metadata": {
    "collapsed": false
   },
   "outputs": [
    {
     "name": "stdout",
     "output_type": "stream",
     "text": [
      "100 loops, best of 3: 241 µs per loop\n"
     ]
    }
   ],
   "source": [
    "%%timeit -n 100\n",
    "E = np.empty_like(values)\n",
    "\n",
    "for j in range(len(values[0])):\n",
    "    for i in range(2):\n",
    "        E[i][j] = sum(values[i,:])*sum(values[:,j])/sum(values)\n",
    "#%whos"
   ]
  },
  {
   "cell_type": "code",
   "execution_count": 34,
   "metadata": {
    "collapsed": false
   },
   "outputs": [
    {
     "name": "stdout",
     "output_type": "stream",
     "text": [
      "[[ 0.          0.00907142  0.25889605  0.56587568  0.78982039  0.94024738\n",
      "   0.9821135   0.98665146  0.98682101]\n",
      " [ 0.          0.00931372  0.26581116  0.58099021  0.81091649  0.96536139\n",
      "   1.00834574  1.01300492  1.01317899]]\n",
      "9\n",
      "chisq 0.00793517321213\n",
      "[[ 0.         -0.00070682 -0.02701129 -0.01849532  0.00124917  0.00711364\n",
      "   0.01155155  0.01312009  0.01317899]\n",
      " [ 0.          0.00070682  0.02701129  0.01849532 -0.00124917 -0.00711364\n",
      "  -0.01155155 -0.01312009 -0.01317899]]\n"
     ]
    }
   ],
   "source": [
    "print E \n",
    "print len(values[0])\n",
    "print \"chisq\" , nansum((values-E)**2/E)\n",
    "print values-E"
   ]
  },
  {
   "cell_type": "markdown",
   "metadata": {},
   "source": [
    "creating the cells via vectorized operations"
   ]
  },
  {
   "cell_type": "code",
   "execution_count": 35,
   "metadata": {
    "collapsed": false
   },
   "outputs": [
    {
     "name": "stdout",
     "output_type": "stream",
     "text": [
      "100 loops, best of 3: 20.3 µs per loop\n"
     ]
    }
   ],
   "source": [
    "%%timeit -n 100 \n",
    "\n",
    "\n",
    "E_vec = np.outer(sum(values,axis=1),sum(values,axis=0))\n",
    "E_vec=(E_vec/sum(values))\n",
    "#%whos\n"
   ]
  },
  {
   "cell_type": "code",
   "execution_count": 36,
   "metadata": {
    "collapsed": false
   },
   "outputs": [
    {
     "name": "stdout",
     "output_type": "stream",
     "text": [
      "[[ 0.          0.00907142  0.25889605  0.56587568  0.78982039  0.94024738\n",
      "   0.9821135   0.98665146  0.98682101]\n",
      " [ 0.          0.00931372  0.26581116  0.58099021  0.81091649  0.96536139\n",
      "   1.00834574  1.01300492  1.01317899]]\n",
      "9\n",
      "chisq 0.00793517321213\n",
      "[[ 0.         -0.00070682 -0.02701129 -0.01849532  0.00124917  0.00711364\n",
      "   0.01155155  0.01312009  0.01317899]\n",
      " [ 0.          0.00070682  0.02701129  0.01849532 -0.00124917 -0.00711364\n",
      "  -0.01155155 -0.01312009 -0.01317899]]\n"
     ]
    }
   ],
   "source": [
    "print E\n",
    "print len(values[0])\n",
    "print \"chisq\" , nansum((values-E)**2/E)\n",
    "print values-E"
   ]
  },
  {
   "cell_type": "markdown",
   "metadata": {},
   "source": [
    "## 10 times faster!!"
   ]
  },
  {
   "cell_type": "code",
   "execution_count": null,
   "metadata": {
    "collapsed": true
   },
   "outputs": [],
   "source": []
  }
 ],
 "metadata": {
  "kernelspec": {
   "display_name": "Python 2",
   "language": "python",
   "name": "python2"
  },
  "language_info": {
   "codemirror_mode": {
    "name": "ipython",
    "version": 2
   },
   "file_extension": ".py",
   "mimetype": "text/x-python",
   "name": "python",
   "nbconvert_exporter": "python",
   "pygments_lexer": "ipython2",
   "version": "2.7.3"
  }
 },
 "nbformat": 4,
 "nbformat_minor": 0
}
